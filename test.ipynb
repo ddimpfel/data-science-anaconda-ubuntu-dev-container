{
 "cells": [
  {
   "cell_type": "markdown",
   "id": "8e71801e-0fb1-4051-8e97-efbf85d22f1c",
   "metadata": {},
   "source": [
    "# Test Assignment\n",
    "\n",
    "Please execute this notebook and submit it to Canvas, no later than Wednesday of the first week of class."
   ]
  },
  {
   "cell_type": "code",
   "execution_count": 1,
   "id": "92fb0c07-ce64-4833-af4f-c13e77c39488",
   "metadata": {},
   "outputs": [],
   "source": [
    "from platform import python_version"
   ]
  },
  {
   "cell_type": "code",
   "execution_count": 2,
   "id": "30485c79-6432-4b8a-8e2d-58e76f3c137a",
   "metadata": {},
   "outputs": [
    {
     "name": "stdout",
     "output_type": "stream",
     "text": [
      "3.11.13\n"
     ]
    }
   ],
   "source": [
    "print(python_version())"
   ]
  },
  {
   "cell_type": "code",
   "execution_count": 3,
   "id": "27f31d0f-25bb-4d5a-9d17-e0f476752374",
   "metadata": {},
   "outputs": [],
   "source": [
    "import numpy as np"
   ]
  },
  {
   "cell_type": "code",
   "execution_count": 4,
   "id": "a63d3c96-6c3b-43e7-86e9-237368963134",
   "metadata": {},
   "outputs": [
    {
     "data": {
      "text/plain": [
       "'2.3.2'"
      ]
     },
     "execution_count": 4,
     "metadata": {},
     "output_type": "execute_result"
    }
   ],
   "source": [
    "np.__version__"
   ]
  },
  {
   "cell_type": "code",
   "execution_count": 5,
   "id": "2d3c8728-93f3-4089-a7a6-d6310a480085",
   "metadata": {},
   "outputs": [],
   "source": [
    "import scipy"
   ]
  },
  {
   "cell_type": "code",
   "execution_count": 6,
   "id": "425cb9f6-08dd-414e-a2f6-8df3f589ef68",
   "metadata": {},
   "outputs": [
    {
     "data": {
      "text/plain": [
       "'1.16.1'"
      ]
     },
     "execution_count": 6,
     "metadata": {},
     "output_type": "execute_result"
    }
   ],
   "source": [
    "scipy.__version__"
   ]
  },
  {
   "cell_type": "code",
   "execution_count": 7,
   "id": "adcc9686-495c-4adf-94c0-c3bc5beefe65",
   "metadata": {},
   "outputs": [],
   "source": [
    "import matplotlib"
   ]
  },
  {
   "cell_type": "code",
   "execution_count": 8,
   "id": "96cf50a9-80fe-4cea-b903-a7bcd207a0db",
   "metadata": {},
   "outputs": [
    {
     "data": {
      "text/plain": [
       "'3.10.6'"
      ]
     },
     "execution_count": 8,
     "metadata": {},
     "output_type": "execute_result"
    }
   ],
   "source": [
    "matplotlib.__version__"
   ]
  },
  {
   "cell_type": "code",
   "execution_count": 9,
   "id": "9847e4cf-a178-4c41-9de0-6ba48d213691",
   "metadata": {},
   "outputs": [],
   "source": [
    "import sklearn"
   ]
  },
  {
   "cell_type": "code",
   "execution_count": 10,
   "id": "3acce9e7-7e8c-4ad1-bcfa-0633dddc2ec2",
   "metadata": {},
   "outputs": [
    {
     "data": {
      "text/plain": [
       "'1.7.1'"
      ]
     },
     "execution_count": 10,
     "metadata": {},
     "output_type": "execute_result"
    }
   ],
   "source": [
    "sklearn.__version__"
   ]
  },
  {
   "cell_type": "code",
   "execution_count": 11,
   "id": "53c0f3a0-a5c4-4918-b088-edd8899b2063",
   "metadata": {},
   "outputs": [],
   "source": [
    "import pandas"
   ]
  },
  {
   "cell_type": "code",
   "execution_count": 12,
   "id": "761ddc3b-6276-4f5e-8e58-3489814f2d60",
   "metadata": {},
   "outputs": [
    {
     "data": {
      "text/plain": [
       "'2.3.2'"
      ]
     },
     "execution_count": 12,
     "metadata": {},
     "output_type": "execute_result"
    }
   ],
   "source": [
    "pandas.__version__"
   ]
  }
 ],
 "metadata": {
  "kernelspec": {
   "display_name": "Python (en685648)",
   "language": "python",
   "name": "en685648"
  },
  "language_info": {
   "codemirror_mode": {
    "name": "ipython",
    "version": 3
   },
   "file_extension": ".py",
   "mimetype": "text/x-python",
   "name": "python",
   "nbconvert_exporter": "python",
   "pygments_lexer": "ipython3",
   "version": "3.11.13"
  }
 },
 "nbformat": 4,
 "nbformat_minor": 5
}
